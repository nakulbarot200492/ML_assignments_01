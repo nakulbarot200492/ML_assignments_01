{
 "cells": [
  {
   "cell_type": "code",
   "execution_count": 1,
   "id": "f14fea44-41dc-4eea-b593-8bc04f2397a2",
   "metadata": {},
   "outputs": [],
   "source": [
    "# Introduction to Machine Learning-1 Assignment\n",
    "\n",
    "# Data Science Masters\n",
    "\n",
    "# Import necessary libraries\n",
    "import numpy as np\n",
    "import pandas as pd\n",
    "import matplotlib.pyplot as plt"
   ]
  },
  {
   "cell_type": "markdown",
   "id": "593e6577-887d-43be-920a-54b3421fa3b8",
   "metadata": {},
   "source": [
    "## Q1: Explain the following with an example:\n",
    "a) Artificial Intelligence\n",
    "b) Machine Learning\n",
    "c) Deep Learning\n",
    "\n",
    "a) Artificial Intelligence (AI):\n",
    "AI refers to the simulation of human intelligence in machines programmed to think and act like humans. \n",
    "Example: A chess-playing computer program that can strategize and make decisions.\n",
    "\n",
    "b) Machine Learning (ML):\n",
    "ML is a subset of AI that focuses on the development of algorithms that can learn from and make predictions or decisions based on data.\n",
    "Example: A spam filter that learns to identify spam emails based on past examples.\n",
    "\n",
    "c) Deep Learning (DL):\n",
    "DL is a subset of ML that uses artificial neural networks with multiple layers to learn from large amounts of data.\n",
    "Example: A facial recognition system that can identify individuals in images or video."
   ]
  },
  {
   "cell_type": "markdown",
   "id": "e304f95c-00fe-40df-bb07-345d7576acc0",
   "metadata": {},
   "source": [
    "## Q2: What is supervised learning? List some examples of supervised learning.\n",
    "\n",
    "Supervised learning is a type of machine learning where the algorithm learns from labeled training data. The goal is to learn a function that maps input variables to output variables.\n",
    "\n",
    "Examples of supervised learning:\n",
    "1. Image classification\n",
    "2. Spam email detection\n",
    "3. Sentiment analysis\n",
    "4. Price prediction\n",
    "5. Medical diagnosis"
   ]
  },
  {
   "cell_type": "markdown",
   "id": "5557306f-86aa-4539-acda-6e0d9a5008cf",
   "metadata": {},
   "source": [
    "## Q3: What is unsupervised learning? List some examples of unsupervised learning.\n",
    "\n",
    "Unsupervised learning is a type of machine learning where the algorithm learns patterns from unlabeled data without predetermined outputs.\n",
    "\n",
    "Examples of unsupervised learning:\n",
    "1. Customer segmentation\n",
    "2. Anomaly detection\n",
    "3. Topic modeling in text analysis\n",
    "4. Dimensionality reduction\n",
    "5. Association rule learning in market basket analysis"
   ]
  },
  {
   "cell_type": "markdown",
   "id": "b5bbf954-ee7d-4ecc-895f-09a33eb84e05",
   "metadata": {},
   "source": [
    "## Q4: What is the difference between AI, ML, DL, and DS?\n",
    "\n",
    "- AI (Artificial Intelligence): The broader concept of machines being able to carry out tasks in a way that we would consider \"smart\".\n",
    "- ML (Machine Learning): A subset of AI that focuses on the ability of machines to receive data and learn for themselves without being explicitly programmed.\n",
    "- DL (Deep Learning): A subset of ML that uses artificial neural networks with multiple layers to learn from vast amounts of data.\n",
    "- DS (Data Science): An interdisciplinary field that uses scientific methods, processes, algorithms, and systems to extract knowledge and insights from structured and unstructured data."
   ]
  },
  {
   "cell_type": "markdown",
   "id": "2c150ffe-042f-4c42-a4a7-7a1ac64ed90f",
   "metadata": {},
   "source": [
    "## Q5: What are the main differences between supervised, unsupervised, and semi-supervised learning?\n",
    "\n",
    "1. Supervised Learning:\n",
    "   - Uses labeled data\n",
    "   - Predicts output variables\n",
    "   - Examples: Classification, Regression\n",
    "\n",
    "2. Unsupervised Learning:\n",
    "   - Uses unlabeled data\n",
    "   - Finds patterns or structures in data\n",
    "   - Examples: Clustering, Dimensionality reduction\n",
    "\n",
    "3. Semi-supervised Learning:\n",
    "   - Uses both labeled and unlabeled data\n",
    "   - Improves learning accuracy\n",
    "   - Useful when labeled data is limited"
   ]
  },
  {
   "cell_type": "markdown",
   "id": "e07902cf-37fe-41e8-89d1-9634924461e4",
   "metadata": {},
   "source": [
    "## Q6: What is train, test and validation split? Explain the importance of each term.\n",
    "\n",
    "1. Training Set:\n",
    "   - Largest portion of the data (typically 60-80%)\n",
    "   - Used to train the model\n",
    "   - Importance: Allows the model to learn patterns from the data\n",
    "\n",
    "2. Validation Set:\n",
    "   - Smaller portion (typically 10-20%)\n",
    "   - Used to tune hyperparameters and evaluate the model during training\n",
    "   - Importance: Helps prevent overfitting and select the best model\n",
    "\n",
    "3. Test Set:\n",
    "   - Remaining portion (typically 10-20%)\n",
    "   - Used to evaluate the final model performance\n",
    "   - Importance: Provides an unbiased evaluation of the model's generalization ability"
   ]
  },
  {
   "cell_type": "markdown",
   "id": "3b82d714-3968-46de-92d6-7b3f4175ad62",
   "metadata": {},
   "source": [
    "## Q7: How can unsupervised learning be used in anomaly detection?\n",
    "\n",
    "Unsupervised learning can be used for anomaly detection by:\n",
    "\n",
    "1. Learning the normal patterns in the data without labeled anomalies\n",
    "2. Identifying data points that deviate significantly from these normal patterns\n",
    "\n",
    "Methods:\n",
    "- Clustering techniques (e.g., K-means, DBSCAN)\n",
    "- Dimensionality reduction (e.g., PCA, Autoencoders)\n",
    "- Density estimation (e.g., Isolation Forest, One-Class SVM)\n",
    "\n",
    "Example: Detecting fraudulent transactions in banking by identifying unusual patterns in spending behavior."
   ]
  },
  {
   "cell_type": "markdown",
   "id": "f67a7594-de2b-4724-94ce-0a895d486c08",
   "metadata": {},
   "source": [
    "## Q8: List down some commonly used supervised learning algorithms and unsupervised learning algorithms.\n",
    "\n",
    "Supervised Learning Algorithms:\n",
    "1. Linear Regression\n",
    "2. Logistic Regression\n",
    "3. Decision Trees\n",
    "4. Random Forests\n",
    "5. Support Vector Machines (SVM)\n",
    "6. Naive Bayes\n",
    "7. K-Nearest Neighbors (KNN)\n",
    "\n",
    "Unsupervised Learning Algorithms:\n",
    "1. K-means Clustering\n",
    "2. Hierarchical Clustering\n",
    "3. Principal Component Analysis (PCA)\n",
    "4. Independent Component Analysis (ICA)\n",
    "5. Apriori Algorithm\n",
    "6. Gaussian Mixture Models\n",
    "7. t-SNE (t-Distributed Stochastic Neighbor Embedding)"
   ]
  },
  {
   "cell_type": "code",
   "execution_count": null,
   "id": "eb3395f0-e1c8-43fb-8a4e-1bb08b634da1",
   "metadata": {},
   "outputs": [],
   "source": []
  }
 ],
 "metadata": {
  "kernelspec": {
   "display_name": "Python 3 (ipykernel)",
   "language": "python",
   "name": "python3"
  },
  "language_info": {
   "codemirror_mode": {
    "name": "ipython",
    "version": 3
   },
   "file_extension": ".py",
   "mimetype": "text/x-python",
   "name": "python",
   "nbconvert_exporter": "python",
   "pygments_lexer": "ipython3",
   "version": "3.10.8"
  }
 },
 "nbformat": 4,
 "nbformat_minor": 5
}
